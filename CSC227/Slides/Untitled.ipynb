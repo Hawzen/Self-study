{
 "cells": [
  {
   "cell_type": "code",
   "execution_count": 18,
   "metadata": {},
   "outputs": [],
   "source": [
    "from itertools import product\n",
    "from functools import lru_cache\n",
    "\n",
    "def generateParenthesis(n: int):    \n",
    "    if n == 1: return [\"()\"]\n",
    "\n",
    "    res = []\n",
    "    for digits in product(range(2), repeat=n-1):\n",
    "        parns = [\"()\"]\n",
    "        for digit in digits:\n",
    "            if digit == 0:\n",
    "                parns.append(\"()\")\n",
    "            else:\n",
    "                parns.append(nest(parns.pop()))\n",
    "        res.append(\"\".join(parns))\n",
    "    return res\n",
    "\n",
    "@lru_cache(maxsize=None)\n",
    "def nest(s):\n",
    "    return f\"({s})\"\n",
    "\n"
   ]
  },
  {
   "cell_type": "code",
   "execution_count": null,
   "metadata": {},
   "outputs": [],
   "source": [
    "generateParenthesis(20)"
   ]
  },
  {
   "cell_type": "code",
   "execution_count": null,
   "metadata": {},
   "outputs": [],
   "source": []
  }
 ],
 "metadata": {
  "kernelspec": {
   "display_name": "Python 3",
   "language": "python",
   "name": "python3"
  },
  "language_info": {
   "codemirror_mode": {
    "name": "ipython",
    "version": 3
   },
   "file_extension": ".py",
   "mimetype": "text/x-python",
   "name": "python",
   "nbconvert_exporter": "python",
   "pygments_lexer": "ipython3",
   "version": "3.6.0"
  }
 },
 "nbformat": 4,
 "nbformat_minor": 4
}
